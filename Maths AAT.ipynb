{
 "cells": [
  {
   "cell_type": "markdown",
   "id": "112c6b57",
   "metadata": {},
   "source": [
    "Question:Calculate probability using Normal distribution"
   ]
  },
  {
   "cell_type": "code",
   "execution_count": 2,
   "id": "6e239752",
   "metadata": {},
   "outputs": [
    {
     "name": "stdout",
     "output_type": "stream",
     "text": [
      "z lower limit:  -0.2666666666666666\n",
      "z upper limit:  1.5515151515151515\n",
      "Normal probability value:  0.5447479499361156\n"
     ]
    }
   ],
   "source": [
    "import scipy.stats as stats\n",
    "\n",
    "mean=float(input(\"Enter the mean:\"))\n",
    "std=float(input(\"Enter the standard devaition:\"))\n",
    "lower_lim=float(input(\"Enter the lower limit of normal variate (Enter 0 if -infinity):\"))\n",
    "upper_lim=float(input(\"Enter the upper limit of normal variate (Enter 0 if infinity):\"))\n",
    "\n",
    "cdf_upperlim=stats.norm.cdf(upper_lim,loc=mean,scale=std) # We are finding from -infinity to y\n",
    "cdf_lowerlim=stats.norm.cdf(lower_lim,loc=mean,scale=std)  # We are finding from -infinity to x\n",
    "prob=cdf_upperlim - cdf_lowerlim \n",
    "\n",
    "z_upper=(upper_lim-mean)/std\n",
    "z_lower=(lower_lim-mean)/std\n",
    "\n",
    "print(\"z lower limit: \",z_lower)\n",
    "print(\"z upper limit: \",z_upper)\n",
    "print(\"Normal probability value: \",prob)"
   ]
  },
  {
   "cell_type": "markdown",
   "id": "0f6ac434",
   "metadata": {},
   "source": [
    "Question:Calculate probability using exponential distribution"
   ]
  },
  {
   "cell_type": "code",
   "execution_count": 1,
   "id": "ecd39e81",
   "metadata": {},
   "outputs": [
    {
     "name": "stdout",
     "output_type": "stream",
     "text": [
      "The exponential probability value is: (0.8646647167633875, 9.599706771317024e-15)\n"
     ]
    }
   ],
   "source": [
    "import math\n",
    "from scipy.integrate import quad\n",
    "\n",
    "def f(x,mean):\n",
    "    lmd=(1/mean)\n",
    "    return lmd* math.exp(-lmd*x)\n",
    "\n",
    "mean= int(input(\"Enter the mean:\"))\n",
    "lower_lim=int(input(\"Enter the lower limit (Enter -1 if -infinity):\"))\n",
    "upper_lim=int(input(\"Enter the upper limit (Enter -1 if infinity):\"))\n",
    "    \n",
    "if lower_lim==-1 and upper_lim==-1:\n",
    "    print(\"The exponential probability value is 1.\")\n",
    "\n",
    "elif lower_lim==-1: # lower limit -infinity\n",
    "    expo_pdf=quad(f,0,upper_lim, args=(mean))  # -infinity to y is same as 0 to y\n",
    "    print(\"The exponential probability value is:\", expo_pdf)\n",
    "\n",
    "elif upper_lim==-1: #upper limit is infinity\n",
    "    pos_inf=float('inf')\n",
    "    expo_pdf=quad(f,lower_lim,pos_inf, args=(mean))  # x to +infinity\n",
    "    print(\"The exponential probability value is:\", expo_pdf)\n",
    "\n",
    "else:\n",
    "    expo_pdf=quad(f,lower_lim, upper_lim, args=(mean)) # from lower to upper limit\n",
    "    print(\"The exponential probability value is:\", expo_pdf)"
   ]
  },
  {
   "cell_type": "markdown",
   "id": "ca99d6b7",
   "metadata": {},
   "source": [
    "Question: Calculate probability using poisson distribution"
   ]
  },
  {
   "cell_type": "code",
   "execution_count": 2,
   "id": "f0666160",
   "metadata": {},
   "outputs": [
    {
     "name": "stdout",
     "output_type": "stream",
     "text": [
      "Enter the mean:0.2\n",
      "Enter the poisson variate:0\n",
      "The poisson distribution is: 0.8187307530779818\n"
     ]
    }
   ],
   "source": [
    "import math\n",
    " \n",
    "def f(x, lam):\n",
    "    return (math.exp(-lam) * lam**x)/(math.factorial(x))\n",
    "\n",
    "lam=float(input(\"Enter the mean:\"))\n",
    "p=int(input(\"Enter the poisson variate:\"))\n",
    "\n",
    "poisson=f(p,lam)\n",
    "print(\"The poisson distribution is:\", poisson)\n"
   ]
  },
  {
   "cell_type": "markdown",
   "id": "0fa67a23",
   "metadata": {},
   "source": [
    "Question:Kruskals algorithm to find minimal spanning tree"
   ]
  },
  {
   "cell_type": "code",
   "execution_count": null,
   "id": "12f8213e",
   "metadata": {},
   "outputs": [],
   "source": [
    "import networkx as nx\n",
    "import matplotlib.pyplot as plt\n",
    "\n",
    "# Create an empty graph\n",
    "G = nx.Graph()\n",
    "\n",
    "# Add edges to the graph\n",
    "G.add_edge(1, 2, weight=3)\n",
    "G.add_edge(1, 3, weight=4)\n",
    "G.add_edge(2, 3, weight=5)\n",
    "G.add_edge(2, 4, weight=2)\n",
    "G.add_edge(3, 4, weight=1)\n",
    "pos = nx.spring_layout(G)\n",
    "nx.draw(G, pos, with_labels=True)\n",
    "nx.draw_networkx_edge_labels(G, pos, edge_labels={(u, v): G[u][v]['weight'] for u, v in G.edges()})\n",
    "\n",
    "# Show the plot\n",
    "plt.show()\n",
    "\n",
    "# Apply Kruskal's algorithm to find the minimum spanning tree\n",
    "mst = nx.minimum_spanning_tree(G)\n",
    "\n",
    "# Draw the graph\n",
    "pos = nx.spring_layout(mst)\n",
    "nx.draw(mst, pos, with_labels=True)\n",
    "nx.draw_networkx_edge_labels(mst, pos, edge_labels={(u, v): mst[u][v]['weight'] for u, v in mst.edges()})\n",
    "\n",
    "# Show the plot\n",
    "plt.show()"
   ]
  },
  {
   "attachments": {},
   "cell_type": "markdown",
   "id": "3b9697fe",
   "metadata": {},
   "source": [
    "Question:Dijkstra's algorithm to find shortest path"
   ]
  },
  {
   "cell_type": "code",
   "execution_count": 3,
   "id": "3dc2fd6c",
   "metadata": {},
   "outputs": [
    {
     "name": "stdout",
     "output_type": "stream",
     "text": [
      "Shortest Path:  ['B', 'C', 'E', 'G']\n",
      "Shortest Distance:  7\n"
     ]
    }
   ],
   "source": [
    "def dijkstra(graph, start, end):\n",
    "    # Create a dictionary to store the distance from the start node to every other node\n",
    "    distances = {node: float(\"inf\") for node in graph}\n",
    "    distances[start] = 0\n",
    "\n",
    "    # Create a dictionary to store the previous node for each node\n",
    "    previous = {}\n",
    "\n",
    "    # Create a set to keep track of unvisited nodes\n",
    "    unvisited = set(graph)\n",
    "\n",
    "    # Create a set to keep track of the current node\n",
    "    current = start\n",
    "\n",
    "    while current != end:\n",
    "        for neighbor in graph[current]:\n",
    "            new_distance = distances[current] + graph[current][neighbor]\n",
    "            if new_distance < distances[neighbor]:\n",
    "                distances[neighbor] = new_distance\n",
    "                previous[neighbor] = current\n",
    "\n",
    "        unvisited.remove(current)\n",
    "        if not unvisited:\n",
    "            return None, None\n",
    "        candidates = {node: distances[node] for node in unvisited}\n",
    "        current = min(candidates, key=candidates.get)\n",
    "\n",
    "    # Create a list to store the shortest path\n",
    "    path = []\n",
    "    while current != start:\n",
    "        path.append(current)\n",
    "        current = previous[current]\n",
    "    path.append(start)\n",
    "    path.reverse()\n",
    "\n",
    "    return path, distances[end]\n",
    "\n",
    "# Example usage:\n",
    "graph = {\n",
    "    \"A\": {\"B\": 7, \"C\": 3, \"D\":2, \"E\":2},\n",
    "    \"B\": {\"A\": 7, \"C\": 1},\n",
    "    \"C\": {\"A\": 3, \"B\": 1, \"E\": 4,\"F\":3},\n",
    "    \"D\": {\"A\": 2, \"E\": 1,\"G\":2,\"F\":10},\n",
    "    \"E\": {\"A\":2,\"C\":4,\"D\":1,\"F\":4,\"G\":2},\n",
    "    \"F\": {\"C\":3,\"D\":10,\"E\":4,\"G\":7},\n",
    "    \"G\": {\"D\":2,\"E\":2,\"F\":7}\n",
    "}\n",
    "\n",
    "shortest_path, shortest_distance = dijkstra(graph, \"B\", \"G\")\n",
    "\n",
    "print(\"Shortest Path: \", shortest_path)\n",
    "print(\"Shortest Distance: \", shortest_distance)"
   ]
  }
 ],
 "metadata": {
  "kernelspec": {
   "display_name": "Python 3",
   "language": "python",
   "name": "python3"
  },
  "language_info": {
   "codemirror_mode": {
    "name": "ipython",
    "version": 3
   },
   "file_extension": ".py",
   "mimetype": "text/x-python",
   "name": "python",
   "nbconvert_exporter": "python",
   "pygments_lexer": "ipython3",
   "version": "3.11.1"
  },
  "vscode": {
   "interpreter": {
    "hash": "b5366fdf1b75ea46866cbb0dbf20c9c00a492271cd056179d726b8c91a378c13"
   }
  }
 },
 "nbformat": 4,
 "nbformat_minor": 5
}
